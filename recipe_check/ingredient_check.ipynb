{
 "cells": [
  {
   "cell_type": "markdown",
   "metadata": {},
   "source": [
    "# Recipe Check with Azure OpenAI - Tightly Typed Structured Data\n",
    "This notebook implements a Python solution to match recipes (dishes) with available ingredients, leveraging Azure OpenAI for reasoning and natural language processing.\n",
    "The solution:\n",
    "- Accepts a JSON-based input schema for requested dishes and available ingredients.\n",
    "- Calls Azure OpenAI to evaluate the feasibility of creating each dish.\n",
    "- Outputs a JSON object indicating whether each dish can be created and lists the required ingredients.\n",
    "\n",
    "The core capability demonstrated in this notebook is - **Providing a JSON-based output schema**"
   ]
  },
  {
   "cell_type": "markdown",
   "metadata": {},
   "source": [
    "## Environment Setup\n",
    "1. Create a `.env` file in the configuration folder with the following contents, we provided a sample file in the same folder:\n",
    "\n",
    "```plaintext\n",
    "AOAI_APIKEY = <your key>\n",
    "AOAI_ENDPOINT = <your endpoint>\n",
    "EMBEDDING_DEPLOYMENTNAME = <your embedding deployment name>\n",
    "CHATCOMPLETION_DEPLOYMENTNAME = <your chat completion deployment name>\n",
    "```\n",
    "2. Install necessary libraries:\n",
    "\n"
   ]
  },
  {
   "cell_type": "code",
   "execution_count": null,
   "metadata": {},
   "outputs": [],
   "source": [
    "! pip install openai==1.59.3 python-dotenv"
   ]
  },
  {
   "cell_type": "code",
   "execution_count": 38,
   "metadata": {},
   "outputs": [],
   "source": [
    "def check_azure_openai_config(subscription_key: Optional[str], endpoint: Optional[str], deployment: Optional[str]) -> None:\n",
    "    \"\"\"\n",
    "    Checks and prints the status of Azure OpenAI configuration variables.\n",
    "\n",
    "    Args:\n",
    "        subscription_key (Optional[str]): Azure OpenAI API key.\n",
    "        endpoint (Optional[str]): Azure OpenAI endpoint URL.\n",
    "        deployment (Optional[str]): Azure OpenAI deployment name.\n",
    "    \"\"\"\n",
    "    config_checks = {\n",
    "        \"Azure OpenAI API key\": subscription_key,\n",
    "        \"Azure OpenAI endpoint\": endpoint,\n",
    "        \"Azure OpenAI deployment name\": deployment,\n",
    "    }\n",
    "\n",
    "    for config_name, config_value in config_checks.items():\n",
    "        if config_value is None:\n",
    "            print(f\"{config_name} is not set\")\n",
    "        else:\n",
    "            print(f\"{config_name} is set\")"
   ]
  },
  {
   "cell_type": "code",
   "execution_count": null,
   "metadata": {},
   "outputs": [],
   "source": [
    "# Load environment variables\n",
    "import os\n",
    "from dotenv import load_dotenv\n",
    "\n",
    "# Load .env file\n",
    "load_dotenv(\"../configuration/.env\")\n",
    "\n",
    "# Azure OpenAI environment variables\n",
    "subscription_key = os.getenv(\"AOAI_APIKEY\")\n",
    "endpoint = os.getenv(\"AOAI_ENDPOINT\")\n",
    "deployment = os.getenv(\"CHATCOMPLETION_DEPLOYMENTNAME\")\n",
    "# check if any of the variables are not set and output a message\n",
    "\n",
    "check_azure_openai_config(subscription_key, endpoint, deployment)\n"
   ]
  },
  {
   "cell_type": "markdown",
   "metadata": {},
   "source": [
    "## Input and output classes\n",
    "\n",
    "Now lets define the input and output schemas for our recipe-checking application using Python classes. These classes are built with the _pydantic_ library to provide:\n",
    "1.\tStructure: Clear definitions of the fields required for input and output, ensuring consistency across the application.\n",
    "2.\tValidation: Automatic type checking and validation of data at runtime, reducing potential errors caused by invalid inputs.\n",
    "3.\tSerialization: Easy conversion between JSON and Python objects, simplifying data exchange with external systems like APIs.\n",
    "4.\tDocumentation: Enhanced readability and maintainability with detailed descriptions for each attribute.\n",
    "\n",
    "The schema consists of:\n",
    "- Input Schema: Represents the list of dishes to check and the available ingredients.\n",
    "- Output Schema: Represents the results for each dish, indicating whether it can be created and the list of required ingredients.\n",
    "\n",
    "These classes will ensure the integrity of data as it flows through the system and serve as the foundation for interacting with Azure OpenAI to process the input and generate the output."
   ]
  },
  {
   "cell_type": "code",
   "execution_count": 40,
   "metadata": {},
   "outputs": [],
   "source": [
    "from typing import List, Optional\n",
    "from pydantic import BaseModel, Field\n",
    "\n",
    "class DishRequest(BaseModel):\n",
    "    \"\"\"\n",
    "    A class representing a requested dish.\n",
    "\n",
    "    Attributes:\n",
    "        dish_name: Name of the requested dish.\n",
    "    \"\"\"\n",
    "    dish_name: str = Field(\n",
    "        description=\"Name of the requested dish, e.g., Spaghetti Bolognese\"\n",
    "    )\n",
    "\n",
    "\n",
    "class RecipeCheckInput(BaseModel):\n",
    "    \"\"\"\n",
    "    A class representing the input for recipe checking.\n",
    "\n",
    "    Attributes:\n",
    "        requested_dishes: List of dishes to check for feasibility.\n",
    "        available_ingredients: List of ingredients available in the kitchen.\n",
    "    \"\"\"\n",
    "    requested_dishes: List[DishRequest] = Field(\n",
    "        description=\"List of dishes to check for feasibility.\"\n",
    "    )\n",
    "    available_ingredients: List[str] = Field(\n",
    "        description=\"List of ingredients available in the kitchen, e.g., onions, garlic.\"\n",
    "    )\n",
    "\n",
    "\n",
    "class DishAvailability(BaseModel):\n",
    "    \"\"\"\n",
    "    A class representing the availability status of a dish.\n",
    "\n",
    "    Attributes:\n",
    "        dish_name: Name of the dish being checked.\n",
    "        can_be_created: Indicates whether the dish can be created with available ingredients.\n",
    "        required_ingredients: List of ingredients required for the dish (both available and missing).\n",
    "    \"\"\"\n",
    "    dish_name: str = Field(\n",
    "        description=\"Name of the dish being checked, e.g., Spaghetti Bolognese.\"\n",
    "    )\n",
    "    can_be_created: bool = Field(\n",
    "        description=\"Indicates whether the dish can be created with available ingredients.\"\n",
    "    )\n",
    "    required_ingredients: List[str] = Field(\n",
    "        description=\"List of ingredients required for the dish, both available and missing.\"\n",
    "    )\n",
    "\n",
    "\n",
    "class RecipeCheckOutput(BaseModel):\n",
    "    \"\"\"\n",
    "    A class representing the output for recipe checking.\n",
    "\n",
    "    Attributes:\n",
    "        dish_availability: List of availability information for each requested dish.\n",
    "    \"\"\"\n",
    "    dish_availability: List[DishAvailability] = Field(\n",
    "        description=\"List of availability information for each requested dish.\"\n",
    "    )"
   ]
  },
  {
   "cell_type": "markdown",
   "metadata": {},
   "source": [
    "## Azure OpenAI Integration\n",
    "\n",
    "Next is the integration with Azure OpenAI to enable the processing of structured inputs and outputs. This integration utilizes the AzureOpenAI client from the openai library, initialized with key-based authentication. (EntraID authentication is recommended for production scenarios.)\n",
    "\n",
    "Key Features of the Integration\n",
    "- **Structured Outputs**: This integration leverages the capability introduced in API version 2024-08-01-preview, which allows for defining a structured output schema directly in API calls. This feature ensures that the model’s responses adhere to a specific JSON schema, simplifying downstream processing and improving reliability.\n",
    "\n",
    "### Code Implementation\n",
    "\n",
    "The following code initializes the Azure OpenAI client with the required configuration:\n"
   ]
  },
  {
   "cell_type": "code",
   "execution_count": 33,
   "metadata": {},
   "outputs": [],
   "source": [
    "import os  \n",
    "import base64\n",
    "from openai import AzureOpenAI  \n",
    "\n",
    "# Initialize Azure OpenAI client with key-based authentication    \n",
    "client = AzureOpenAI(  \n",
    "    azure_endpoint=endpoint,  \n",
    "    api_key=subscription_key,  \n",
    "    api_version=\"2024-08-01-preview\",\n",
    ")\n",
    "    "
   ]
  },
  {
   "cell_type": "markdown",
   "metadata": {},
   "source": [
    "### Documentation Reference\n",
    "\n",
    "This implementation is based on the structured output feature explained in the Azure OpenAI [documentation](https://learn.microsoft.com/en-us/azure/ai-services/openai/how-to/structured-outputs?tabs=python-secure). By specifying a structured schema in the API call, we ensure that the model’s responses conform to a predefined format, reducing the need for manual parsing or validation.\n",
    "\n",
    "This version (2024-08-01-preview) introduces advanced capabilities like schema-guided outputs, making it particularly useful for applications requiring high consistency and accuracy in generated data.\n"
   ]
  },
  {
   "cell_type": "markdown",
   "metadata": {},
   "source": [
    "## Use Case: Recipe Check\n",
    "\n",
    "The prompt below is a rudimentary example of a recipe-checking scenario, as the purpose of the example is not to find the right ingredients but to demonstrate the structured output feature.\n",
    "\n",
    "Below is a system message that performs the recipe check for given set of dishes and ingredients."
   ]
  },
  {
   "cell_type": "code",
   "execution_count": 34,
   "metadata": {},
   "outputs": [],
   "source": [
    "system_message = \"You are a cooking assistant that determines whether requested dishes can be created based on the list of available ingredients. If an ingredient for the dish is missing, it cannot be created.\""
   ]
  },
  {
   "cell_type": "markdown",
   "metadata": {},
   "source": [
    "## Helper Function : generate_prompt\n",
    "\n",
    "This method, generate_prompt, constructs the input prompt for Azure OpenAI by extracting information from a tightly typed RecipeCheckInput object. The prompt includes:\n",
    "- A list of requested dishes, derived from the requested_dishes field.\n",
    "- A list of available ingredients, extracted from the available_ingredients field.\n",
    "\n",
    "Key Features\n",
    "- Tightly Typed Input:\n",
    "   - The method accepts a RecipeCheckInput object, a Pydantic model that ensures the input adheres to a predefined schema. This guarantees consistency, as the fields requested_dishes and available_ingredients are validated at runtime.\n",
    "   - By using tightly typed inputs, we enforce strong guarantees on data quality, reducing errors and improving the reliability of the prompt generation process.\n",
    "- Readable and Structured Prompt:\n",
    "   - The generated prompt is simple and clear, listing the requested dishes and available ingredients in a human-readable format. This ensures that the AI can interpret the task effectively."
   ]
  },
  {
   "cell_type": "code",
   "execution_count": 35,
   "metadata": {},
   "outputs": [],
   "source": [
    "def generate_prompt(input_data: RecipeCheckInput) -> str:\n",
    "    return (\n",
    "        f\"Requested Dishes: {[dish.dish_name for dish in input_data.requested_dishes]}\\n\"\n",
    "        f\"Available Ingredients: {input_data.available_ingredients}\\n\"\n",
    "    )"
   ]
  },
  {
   "cell_type": "markdown",
   "metadata": {},
   "source": [
    "**Input**: A RecipeCheckInput object containing:\n",
    "\n",
    "- requested_dishes: A list of DishRequest objects, each specifying a dish name.\n",
    "- available_ingredients: A list of strings representing the ingredients available in the kitchen.\n",
    "\n",
    "**Output**: A string formatted to describe the requested dishes and available ingredients.\n",
    "\n",
    "**Why the Use Tightly Typed Input?**\n",
    "\n",
    "By defining and enforcing a schema through Pydantic, we ensure:\n",
    "- Input consistency: Only data matching the RecipeCheckInput structure can be passed to the method.\n",
    "- Automatic validation: Fields are checked for correctness (e.g., data types) at runtime.\n",
    "- Enhanced clarity: The schema serves as a form of documentation, making the expected input format immediately clear.\n",
    "\n",
    "This method is a critical step in ensuring the AI receives a well-structured, context-rich prompt, enabling accurate and reliable output generation.\n",
    "\n",
    "## Helper Function : process_recipe_check\n",
    "\n",
    "Here we combine the Azure OpenAI integration with the recipe-checking logic to evaluate the feasibility of creating each dish based on the available ingredients. The method process_recipe_check performs the following steps:"
   ]
  },
  {
   "cell_type": "code",
   "execution_count": 36,
   "metadata": {},
   "outputs": [],
   "source": [
    "def check_recipes(input_data: RecipeCheckInput) -> RecipeCheckOutput:\n",
    "    \"\"\"\n",
    "    Calls Azure OpenAI to match dishes with available ingredients and generates the output.\n",
    "\n",
    "    Args:\n",
    "        input_data (RecipeCheckInput): Input data object.\n",
    "\n",
    "    Returns:\n",
    "        RecipeCheckOutput: Output data object with dish availability information.\n",
    "    \"\"\"\n",
    "    # Generate the prompt\n",
    "    prompt = generate_prompt(input_data)\n",
    "\n",
    "    # Prepare messages for the chat model\n",
    "    messages = [{\"role\":\"system\", \"content\":system_message},{\"role\": \"user\", \"content\": prompt}]\n",
    "\n",
    "    # Call Azure OpenAI\n",
    "    completion = client.beta.chat.completions.parse(\n",
    "        model=deployment,\n",
    "        messages=messages,\n",
    "        response_format=RecipeCheckOutput,  # Directly specify the response schema as a Python class\n",
    "        max_tokens=800,\n",
    "        temperature=0.7,\n",
    "        top_p=0.95   \n",
    "    )\n",
    "\n",
    "    # `completion` is automatically parsed as a RecipeCheckOutput object\n",
    "    return completion"
   ]
  },
  {
   "cell_type": "markdown",
   "metadata": {},
   "source": [
    "## Sample use\n",
    "\n",
    "The following is an example of how to call the newly created method with specific input request.\n",
    "\n",
    "\n",
    "\t🛑 Important: While this notebook aims to check recipe feasibility based on ingredients, do not attempt to cook solely based on the results. The feasibility of the output also depends on your cooking skills! Remember, even the best ingredients can’t save a bad cook. 😄"
   ]
  },
  {
   "cell_type": "code",
   "execution_count": null,
   "metadata": {},
   "outputs": [],
   "source": [
    "# Example input\n",
    "example_input = RecipeCheckInput(\n",
    "    requested_dishes=[\n",
    "        DishRequest(dish_name=\"Spaghetti Bolognese\"),\n",
    "        DishRequest(dish_name=\"Carnitas\"),\n",
    "    ],\n",
    "    available_ingredients=[\n",
    "        \"carrots\", \"onions\", \"bell peppers\", \"garlic\", \"pork\", \"spaghetti\", \"tomato sauce\"\n",
    "    ],\n",
    ")\n",
    "\n",
    "# Call the method\n",
    "example_output = check_recipes(example_input)\n",
    "\n",
    "# Display output\n",
    "print(example_output.choices[0].message.parsed.json(indent=2))"
   ]
  }
 ],
 "metadata": {
  "kernelspec": {
   "display_name": "Python 3",
   "language": "python",
   "name": "python3"
  },
  "language_info": {
   "codemirror_mode": {
    "name": "ipython",
    "version": 3
   },
   "file_extension": ".py",
   "mimetype": "text/x-python",
   "name": "python",
   "nbconvert_exporter": "python",
   "pygments_lexer": "ipython3",
   "version": "3.10.16"
  }
 },
 "nbformat": 4,
 "nbformat_minor": 2
}
